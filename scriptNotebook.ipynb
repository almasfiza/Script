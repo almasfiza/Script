{
 "cells": [
  {
   "cell_type": "markdown",
   "metadata": {},
   "source": []
  },
  {
   "cell_type": "code",
   "execution_count": 28,
   "metadata": {},
   "outputs": [
    {
     "data": {
      "text/plain": [
       "'\\n\\n\\nAim: Looking at the old data, and the new data to see the changes. \\nCurrently: It is being done manually.\\nObjective: Automate it.\\n\\nManual Process\\n1. Get the updated data by exporting it from PowerBI.\\n2. Get the old data from the All Facilities Data.\\n3. Copying the old data below the new data and highlighting it in green (in Excel).\\n4. Conditional Filtering - Duplicate Values.\\n5. Filter by Color on the BME#\\n    - No-fill means these are new equipments added\\n    - Green means these devices got removed. \\n\\n    Something new: Making the old and new entries in different worksheets.\\n    No color though.\\n6. Depending on the scope, add or remove it from the All Facilities Data (updating the old data file).\\n\\n\\nFor example:\\nOld.xlsx has the following data:\\nThere are two columns: No and Name\\nNo: 1,2,3,4,5,6\\nName: Blue, Green, Yellow, Orange, Purple, Pink\\n\\nNew.xlsx has the following data:\\nThere are two columns: No and Name\\nNo:1,2,3,7,5,6\\nName:Blue,Green, Yellow, Black, Purple, Pink\\n\\nThe output file Highlighted.xlsx should be as follows:\\nThere are two columns: No and Name\\nNo:4,7\\nName:Orange,Black\\n\\n(4,Orange) should be highlighted yellow because they do not exist in the New.xlsx file. And (7,Black) should be highlighted blue because they do not exist in Old.xlsx file.\\n'"
      ]
     },
     "execution_count": 28,
     "metadata": {},
     "output_type": "execute_result"
    }
   ],
   "source": [
    "\"\"\"\n",
    "\n",
    "\n",
    "Aim: Looking at the old data, and the new data to see the changes. \n",
    "Currently: It is being done manually.\n",
    "Objective: Automate it.\n",
    "\n",
    "Manual Process\n",
    "1. Get the updated data by exporting it from PowerBI.\n",
    "2. Get the old data from the All Facilities Data.\n",
    "3. Copying the old data below the new data and highlighting it in green (in Excel).\n",
    "4. Conditional Filtering - Duplicate Values.\n",
    "5. Filter by Color on the BME#\n",
    "    - No-fill means these are new equipments added\n",
    "    - Green means these devices got removed. \n",
    "\n",
    "    Something new: Making the old and new entries in different worksheets.\n",
    "    No color though.\n",
    "6. Depending on the scope, add or remove it from the All Facilities Data (updating the old data file).\n",
    "\n",
    "\n",
    "For example:\n",
    "Old.xlsx has the following data:\n",
    "There are two columns: No and Name\n",
    "No: 1,2,3,4,5,6\n",
    "Name: Blue, Green, Yellow, Orange, Purple, Pink\n",
    "\n",
    "New.xlsx has the following data:\n",
    "There are two columns: No and Name\n",
    "No:1,2,3,7,5,6\n",
    "Name:Blue,Green, Yellow, Black, Purple, Pink\n",
    "\n",
    "The output file Highlighted.xlsx should be as follows:\n",
    "There are two columns: No and Name\n",
    "No:4,7\n",
    "Name:Orange,Black\n",
    "\n",
    "(4,Orange) should be highlighted yellow because they do not exist in the New.xlsx file. And (7,Black) should be highlighted blue because they do not exist in Old.xlsx file.\n",
    "\"\"\""
   ]
  },
  {
   "cell_type": "code",
   "execution_count": 29,
   "metadata": {},
   "outputs": [],
   "source": [
    "\"\"\"\n",
    "openpyxl is a Python Library which helps us to write Excel files.\n",
    "\n",
    "Security Issues: By default openpyxl does not guard against quadratic blowup or billion laughs xml attacks. \n",
    "To guard against these attacks install defusedxml.\n",
    "\"\"\"\n",
    "import openpyxl\n",
    "from openpyxl.styles import PatternFill"
   ]
  },
  {
   "cell_type": "markdown",
   "metadata": {},
   "source": [
    "# This is a code check to verify if the file path exists.\n",
    "- Status: Works\n",
    "- Improvements: None"
   ]
  },
  {
   "cell_type": "code",
   "execution_count": 42,
   "metadata": {},
   "outputs": [
    {
     "name": "stdout",
     "output_type": "stream",
     "text": [
      "True\n"
     ]
    }
   ],
   "source": [
    "#check if file exists\n",
    "import os.path\n",
    "\n",
    "path = 'C:/Users/parshaikhaa/Desktop/Automation/Script/New Data/Cobequid Community Health Centre.xlsx'\n",
    "\n",
    "check_file = os.path.exists(path)\n",
    "\n",
    "print(check_file)"
   ]
  },
  {
   "cell_type": "markdown",
   "metadata": {},
   "source": [
    "# This part of the code is to extract the worksheet from All Facilities Data based on location and store it in a different worksheet.\n",
    "- Status: Works\n",
    "- Improvement: Trying to figure out how to do this without storing it in an intermediate file."
   ]
  },
  {
   "cell_type": "code",
   "execution_count": 65,
   "metadata": {},
   "outputs": [],
   "source": [
    "# Filter the all sites using the \"Facility Name\" column\n",
    "# Read excel file\n",
    "# Store each of the facilities in the different excel sheets - all the files are under one folder.\n",
    "\n",
    "\n",
    "import pandas as pd\n",
    "import os\n",
    "\n",
    "def filter_and_store_facilities(input_file):\n",
    "    # Read the Excel file\n",
    "    df = pd.read_excel(input_file)\n",
    "\n",
    "    # Group data by 'Facility Name'\n",
    "    grouped = df.groupby('Facility Name')\n",
    "\n",
    "    # Create a folder to store the output Excel files\n",
    "    output_folder = \"New Data\"\n",
    "    os.makedirs(output_folder, exist_ok=True)\n",
    "\n",
    "    # Iterate over groups and store each group in a separate Excel file\n",
    "    for facility_name, data in grouped:\n",
    "        # Create an Excel writer object for this facility\n",
    "        output_file = os.path.join(output_folder, f\"{facility_name}.xlsx\")\n",
    "        with pd.ExcelWriter(output_file, engine='openpyxl') as writer:\n",
    "            data.to_excel(writer, index=False)\n",
    "\n",
    "# Example usage:\n",
    "input_file = \"C:/Users/parshaikhaa/Desktop/Automation/Script/New Data/All Facility Data Jan 2024 Export.xlsx\"\n",
    "filter_and_store_facilities(input_file)\n"
   ]
  },
  {
   "cell_type": "markdown",
   "metadata": {},
   "source": [
    "# This code is used to extract the All Facility Data worksheet from the whole excel sheet and store it as new data to be compare the old data with\n",
    "- Status: Works\n",
    "- Note: Cobequid Community Health Centre data is present in the directory as a download."
   ]
  },
  {
   "cell_type": "markdown",
   "metadata": {},
   "source": [
    "Things to work on\n",
    "- Iterating it through the New Data folder and auto-naming the new files."
   ]
  },
  {
   "cell_type": "code",
   "execution_count": 66,
   "metadata": {},
   "outputs": [],
   "source": [
    "import os\n",
    "from openpyxl import load_workbook\n",
    "from openpyxl import Workbook\n",
    "from openpyxl.utils import get_column_letter\n",
    "\n",
    "def save_worksheet_as_excel(input_file, sheet_name, output_file):\n",
    "    # Load the workbook\n",
    "    wb = load_workbook(input_file)\n",
    "    \n",
    "    # Select the desired worksheet\n",
    "    ws = wb[sheet_name]\n",
    "    \n",
    "    # Create the directory if it doesn't exist\n",
    "    output_directory = os.path.dirname(output_file)\n",
    "    if not os.path.exists(output_directory):\n",
    "        os.makedirs(output_directory)\n",
    "    \n",
    "    # Create a new workbook and copy the contents of the selected worksheet\n",
    "    new_wb = Workbook()\n",
    "    new_ws = new_wb.active\n",
    "    \n",
    "    # Copy cell values and formatting\n",
    "    for row in ws.iter_rows(values_only=True):\n",
    "        new_ws.append(row)\n",
    "    \n",
    "    # Save the new workbook\n",
    "    new_wb.save(output_file)\n",
    "\n",
    "# Example usage:\n",
    "input_file = \"C:/Users/parshaikhaa/Desktop/Automation/Script/Old Data/Cobequid Community Health Centre.xlsx\"\n",
    "# Path to the original Excel file\n",
    "sheet_name = \"All Facility Data\"       \n",
    "# Name of the worksheet to be saved\n",
    "output_file = \"C:/Users/parshaikhaa/Desktop/Automation/Script/Old Data/Extract/Cobequid Community Health Centre.xlsx\" # Path to the output Excel file\n",
    "\n",
    "save_worksheet_as_excel(input_file, sheet_name, output_file)\n"
   ]
  },
  {
   "cell_type": "markdown",
   "metadata": {},
   "source": [
    "# This code, helps to compare the differences between the two files and give us the output of the highlighted file.\n",
    "\n",
    "- Status: Works\n",
    "- Improvements: Adding labels in the output file and checking for the label column check for both the old and the new file."
   ]
  },
  {
   "cell_type": "markdown",
   "metadata": {},
   "source": [
    "Things to work on:\n",
    "- Autonaming and comparing.\n",
    "- Iteration"
   ]
  },
  {
   "cell_type": "code",
   "execution_count": 95,
   "metadata": {},
   "outputs": [],
   "source": [
    "\n",
    "\n",
    "# Loading the data from the file\n",
    "def load_data(file_path):\n",
    "    workbook = openpyxl.load_workbook(file_path)\n",
    "    sheet = workbook.active\n",
    "    data = []\n",
    "    for row in sheet.iter_rows(values_only=True):\n",
    "        data.append(row)\n",
    "    return data\n",
    "\n",
    "# Comparing the changes between the old data and new data \n",
    "# Comparing the changes based on the \"Number\" column between the old data and new data\n",
    "def find_changes(old_data, new_data):\n",
    "    old_numbers = {row[0] for row in old_data}  # Assuming \"Number\" is the first column\n",
    "    new_numbers = {row[0] for row in new_data}  # Assuming \"Number\" is the first column\n",
    "\n",
    "    # if the record is not present in new numbers, then add to removed \n",
    "    # otherwise add it to new record list\n",
    "    removed_records = [row for row in old_data if row[0] not in new_numbers]\n",
    "    new_records = [row for row in new_data if row[0] not in old_numbers]\n",
    "\n",
    "    return new_records, removed_records\n",
    "\n",
    "\n",
    "# Highlighting the additions in blue and deductions in yellow - not adding the color since we are storing them on different sheets\n",
    "def highlight_changes(new_records, removed_records, output_path):\n",
    "    wb = openpyxl.Workbook()\n",
    "\n",
    "    # Deleting the default sheet and adding two new worksheets of New and Old records.\n",
    "    del wb[\"Sheet\"]\n",
    "    new_ws = wb.create_sheet(title=\"Added\")\n",
    "    removed_ws = wb.create_sheet(title=\"Removed\")\n",
    "\n",
    "    # Write new records\n",
    "    for record in new_records:\n",
    "        new_ws.append(record)\n",
    "   \n",
    "    # Write removed records\n",
    "    for record in removed_records:\n",
    "        removed_ws.append(record)\n",
    "\n",
    "    # Save the workbook\n",
    "    wb.save(output_path)\n",
    "\n",
    "def main():\n",
    "    old_data_path = \"C:/Users/parshaikhaa/Desktop/Automation/Script/Old Data/Extract/Cobequid Community Health Centre.xlsx\"\n",
    "    new_data_path = \"C:/Users/parshaikhaa/Desktop/Automation/Script/New Data/Cobequid Community Health Centre.xlsx\"\n",
    "    output_path = \"Highlighted Cobequid.xlsx\"\n",
    "\n",
    "    # old_data_path = \"Old.xlsx\"\n",
    "    # new_data_path = \"New.xlsx\"\n",
    "    # output_path = \"Highlighted.xlsx\"\n",
    "\n",
    "    old_data = load_data(old_data_path)\n",
    "    new_data = load_data(new_data_path)\n",
    "\n",
    "    new_records, removed_records = find_changes(old_data, new_data)\n",
    "\n",
    "    highlight_changes(new_records, removed_records, output_path)\n",
    "\n",
    "if __name__ == \"__main__\":\n",
    "    main()\n"
   ]
  },
  {
   "cell_type": "markdown",
   "metadata": {},
   "source": []
  },
  {
   "cell_type": "code",
   "execution_count": null,
   "metadata": {},
   "outputs": [],
   "source": []
  }
 ],
 "metadata": {
  "kernelspec": {
   "display_name": "base",
   "language": "python",
   "name": "python3"
  },
  "language_info": {
   "codemirror_mode": {
    "name": "ipython",
    "version": 3
   },
   "file_extension": ".py",
   "mimetype": "text/x-python",
   "name": "python",
   "nbconvert_exporter": "python",
   "pygments_lexer": "ipython3",
   "version": "3.11.5"
  }
 },
 "nbformat": 4,
 "nbformat_minor": 2
}
